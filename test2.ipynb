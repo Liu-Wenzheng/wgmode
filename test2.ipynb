{
 "cells": [
  {
   "cell_type": "code",
   "execution_count": 1,
   "metadata": {},
   "outputs": [
    {
     "data": {
      "text/plain": [
       "view_field (generic function with 1 method)"
      ]
     },
     "execution_count": 1,
     "metadata": {},
     "output_type": "execute_result"
    }
   ],
   "source": [
    "using HCubature\n",
    "\n",
    "include(\"src/Spectrum.jl\")\n",
    "include(\"src/ModeSolutions.jl\")"
   ]
  },
  {
   "cell_type": "code",
   "execution_count": 12,
   "metadata": {},
   "outputs": [
    {
     "data": {
      "text/plain": [
       "overlap_field (generic function with 1 method)"
      ]
     },
     "execution_count": 12,
     "metadata": {},
     "output_type": "execute_result"
    }
   ],
   "source": [
    "function integral_region(lambda,l_num, m_num, n, R, mode, field_type; error=1e-2)\n",
    "    r_border = first_zeros_bsolver(r->norm(field(r, pi/2, lambda, l_num, m_num, n, R, mode, field_type))-error, [0, R], accuracy=5)\n",
    "    if m_num>2\n",
    "        theta_border = first_zeros_bsolver(theta->norm(field(50, theta, lambda, l_num, m_num, n, R, mode, field_type))-error, [0, pi/2], accuracy=0.5)\n",
    "    else\n",
    "        theta_border = 0\n",
    "    end\n",
    "    if r_border == nothing && theta_border != nothing\n",
    "        r_border = first_zeros_bsolver(r->norm(field(r, pi/2, lambda, l_num, m_num, n, R, mode, \"E\"))-error, [0, R], accuracy=5)\n",
    "    end\n",
    "    return r_border, theta_border\n",
    "end\n",
    "\n",
    "function mutual_region(b1, b2)\n",
    "    return maximum([b1[1], b2[1]]), maximum([b1[2], b2[2]])\n",
    "end\n",
    "\n",
    "function overlap_field(field_parameters, n, R; R_region=R, digit=3)\n",
    "    error = 10.0^(-floor(Int, digit/2)-1)\n",
    "    rtol = 10.0^(-digit)\n",
    "    lambda1, l_num1, m_num1, mode1, field_type1 = field_parameters[1]\n",
    "    lambda2, l_num2, m_num2, mode2, field_type2 = field_parameters[2]\n",
    "    region1 = integral_region(lambda1,l_num1, m_num1, n, R, mode1, field_type1, error=error)\n",
    "    region2 = integral_region(lambda2,l_num2, m_num2, n, R, mode2, field_type2, error=error)\n",
    "    if region1[1] != nothing && region1[2] != nothing && region2[1] != nothing && region2[2] != nothing\n",
    "        mregion = mutual_region(region1, region2)\n",
    "        region = [mregion[1], mregion[2], R_region, pi/2]\n",
    "        print(region)\n",
    "        f1(p) = conj(field(p[1], p[2], lambda1, l_num1, m_num1, n, R, mode1, field_type1))\n",
    "        f2(p) = field(p[1], p[2], lambda2, l_num2, m_num2, n, R, mode2, field_type2)\n",
    "        f3(p) = p[1]^2*sin(p[2])*f1(p)*f2(p)\n",
    "        integration = hcubature(f3, region[1:2], region[3:4], rtol=rtol)\n",
    "        return round(4*pi*integration[1], sigdigits=digit)\n",
    "    else\n",
    "        return 0\n",
    "    end\n",
    "end\n"
   ]
  },
  {
   "cell_type": "code",
   "execution_count": 16,
   "metadata": {},
   "outputs": [
    {
     "data": {
      "text/plain": [
       "\"E_phi\""
      ]
     },
     "execution_count": 16,
     "metadata": {},
     "output_type": "execute_result"
    }
   ],
   "source": [
    "lambda1 = 1502.0244243986813\n",
    "l_num1 = 302\n",
    "m_num1 = 302\n",
    "# first_zeros_bsolver(f, range, accuracy)\n",
    "R = 50\n",
    "n = 1.5\n",
    "mode1 = \"TE\"\n",
    "field_type1 = \"E_phi\"\n",
    "\n",
    "lambda2 = 1307.784438562213\n",
    "l_num2 = 348\n",
    "m_num2 = 302\n",
    "# first_zeros_bsolver(f, range, accuracy)\n",
    "mode2 = \"TE\"\n",
    "field_type2 = \"E_phi\""
   ]
  },
  {
   "cell_type": "code",
   "execution_count": 15,
   "metadata": {},
   "outputs": [
    {
     "name": "stdout",
     "output_type": "stream",
     "text": [
      "[44.63393025240759, 1.3361136438973862, 50.0, 1.5707963267948966]"
     ]
    },
    {
     "data": {
      "text/plain": [
       "-338.0 + 0.0im"
      ]
     },
     "execution_count": 15,
     "metadata": {},
     "output_type": "execute_result"
    }
   ],
   "source": [
    "field_parameters = [[lambda1, l_num1, m_num1, mode1, field_type1], [lambda2, l_num2, m_num2, mode2, field_type2]]\n",
    "overlap_field(field_parameters, n, R)"
   ]
  }
 ],
 "metadata": {
  "kernelspec": {
   "display_name": "Julia 1.6.3",
   "language": "julia",
   "name": "julia-1.6"
  },
  "language_info": {
   "file_extension": ".jl",
   "mimetype": "application/julia",
   "name": "julia",
   "version": "1.6.3"
  },
  "orig_nbformat": 4
 },
 "nbformat": 4,
 "nbformat_minor": 2
}
